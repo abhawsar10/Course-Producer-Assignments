{
  "nbformat": 4,
  "nbformat_minor": 0,
  "metadata": {
    "colab": {
      "name": "Linear Regression and SVM.ipynb",
      "provenance": [],
      "collapsed_sections": []
    },
    "kernelspec": {
      "name": "python3",
      "display_name": "Python 3"
    },
    "language_info": {
      "name": "python"
    }
  },
  "cells": [
    {
      "cell_type": "markdown",
      "source": [
        "# **Linear Regression (40 points)**\n",
        "\n",
        "The data was collected and made available by “National Institute of Diabetes and Digestive and Kidney Diseases” as part of the Pima Indians Diabetes Database. Several constraints were placed on the selection of these instances from a larger database. In particular, all patients here belong to the Pima Indian heritage (subgroup of Native Americans), and are females of ages 21 and above.\n",
        "\n",
        "**There are 442 samples and 10 feature variables in this data-set.**\n",
        "\n",
        "The objective is to predict quantitative measure of disease progression one year after baseline"
      ],
      "metadata": {
        "id": "ZqS9Ll6DxQ2w"
      }
    },
    {
      "cell_type": "markdown",
      "source": [
        "**STEP 1: Importing all the required libraries.**"
      ],
      "metadata": {
        "id": "1Z35OfoczGgl"
      }
    },
    {
      "cell_type": "code",
      "source": [
        "import numpy as np\n",
        "import matplotlib.pyplot as plt \n",
        "\n",
        "import pandas as pd  \n",
        "import seaborn as sns \n",
        "\n",
        "from sklearn import datasets, linear_model\n",
        "from sklearn.metrics import mean_squared_error, r2_score\n",
        "from sklearn.model_selection import train_test_split"
      ],
      "metadata": {
        "id": "bdkfY9bYzIEZ"
      },
      "execution_count": null,
      "outputs": []
    },
    {
      "cell_type": "markdown",
      "source": [
        "**STEP 2: Importing Dataset**\n",
        "\n",
        "We will load the Diabetes DataSet from scikit-learn."
      ],
      "metadata": {
        "id": "v2CKnPtqzR3B"
      }
    },
    {
      "cell_type": "code",
      "source": [
        "diabetes_dataset = datasets.load_diabetes()\n",
        "\n",
        "print(diabetes_dataset.data.shape)\n",
        "print(diabetes_dataset.target.shape)\n",
        "print(diabetes_dataset.DESCR)"
      ],
      "metadata": {
        "colab": {
          "base_uri": "https://localhost:8080/"
        },
        "id": "0SqdFHCBzQLj",
        "outputId": "7e9a5a8d-1a5c-4ac5-87db-4c231a9fe68e"
      },
      "execution_count": null,
      "outputs": [
        {
          "output_type": "stream",
          "name": "stdout",
          "text": [
            "(442, 10)\n",
            "(442,)\n",
            ".. _diabetes_dataset:\n",
            "\n",
            "Diabetes dataset\n",
            "----------------\n",
            "\n",
            "Ten baseline variables, age, sex, body mass index, average blood\n",
            "pressure, and six blood serum measurements were obtained for each of n =\n",
            "442 diabetes patients, as well as the response of interest, a\n",
            "quantitative measure of disease progression one year after baseline.\n",
            "\n",
            "**Data Set Characteristics:**\n",
            "\n",
            "  :Number of Instances: 442\n",
            "\n",
            "  :Number of Attributes: First 10 columns are numeric predictive values\n",
            "\n",
            "  :Target: Column 11 is a quantitative measure of disease progression one year after baseline\n",
            "\n",
            "  :Attribute Information:\n",
            "      - age     age in years\n",
            "      - sex\n",
            "      - bmi     body mass index\n",
            "      - bp      average blood pressure\n",
            "      - s1      tc, total serum cholesterol\n",
            "      - s2      ldl, low-density lipoproteins\n",
            "      - s3      hdl, high-density lipoproteins\n",
            "      - s4      tch, total cholesterol / HDL\n",
            "      - s5      ltg, possibly log of serum triglycerides level\n",
            "      - s6      glu, blood sugar level\n",
            "\n",
            "Note: Each of these 10 feature variables have been mean centered and scaled by the standard deviation times `n_samples` (i.e. the sum of squares of each column totals 1).\n",
            "\n",
            "Source URL:\n",
            "https://www4.stat.ncsu.edu/~boos/var.select/diabetes.html\n",
            "\n",
            "For more information see:\n",
            "Bradley Efron, Trevor Hastie, Iain Johnstone and Robert Tibshirani (2004) \"Least Angle Regression,\" Annals of Statistics (with discussion), 407-499.\n",
            "(https://web.stanford.edu/~hastie/Papers/LARS/LeastAngle_2002.pdf)\n"
          ]
        }
      ]
    },
    {
      "cell_type": "markdown",
      "source": [
        "**STEP 3: Split the Dataset (10 Points)**\n",
        "\n",
        "**TODO:** Similar to the previous assignments, split the given X and y data into X_train, X_test, y_train, y_test, using test ratio of 0.2."
      ],
      "metadata": {
        "id": "_s0_BzRn2zLE"
      }
    },
    {
      "cell_type": "code",
      "source": [
        "X = diabetes_dataset.data\n",
        "y = diabetes_dataset.target\n",
        "\n",
        "##### INPUT CODE HERE (~1 line of code) ######\n",
        "\n",
        "X_train, X_test, y_train, y_test = train_test_split(X, y, test_size = 0.2, random_state = 0)\n",
        "\n",
        "##############################################\n",
        "\n",
        "assert X_train.shape == (353,10)\n",
        "assert y_train.shape == (353,)\n",
        "assert X_test.shape == (89,10)\n",
        "assert y_test.shape == (89,)\n",
        "\n",
        "print(\"Size of training data= \", X_train.shape[0],\" Samples\")\n",
        "print(\"Size of testing data= \", X_test.shape[0],\" Samples\")"
      ],
      "metadata": {
        "colab": {
          "base_uri": "https://localhost:8080/"
        },
        "id": "qXM_sx9O27BD",
        "outputId": "b22f4c6f-0159-4e9b-b37a-90a96d5bb237"
      },
      "execution_count": null,
      "outputs": [
        {
          "output_type": "stream",
          "name": "stdout",
          "text": [
            "Size of training data=  353  Samples\n",
            "Size of testing data=  89  Samples\n"
          ]
        }
      ]
    },
    {
      "cell_type": "markdown",
      "source": [
        "**STEP 4: Fit model to training data (10 Points)**\n",
        "\n",
        "**TODO:** Fit the linear regressor to X_train and y_train data. You may use [this link](https://scikit-learn.org/stable/modules/generated/sklearn.linear_model.LinearRegression.html) for reference."
      ],
      "metadata": {
        "id": "BoBcvYjY5Ggp"
      }
    },
    {
      "cell_type": "code",
      "source": [
        "##### INPUT CODE HERE (~2 line of code) ######\n",
        "\n",
        "# Create linear regression object\n",
        "regr = linear_model.LinearRegression()\n",
        "\n",
        "# Train the model using the training sets\n",
        "regr.fit(X_train, y_train)\n",
        "\n",
        "##############################################\n",
        "\n"
      ],
      "metadata": {
        "colab": {
          "base_uri": "https://localhost:8080/"
        },
        "id": "FS0mNKYo3K67",
        "outputId": "9e014d70-4626-4c06-bcf1-aa1c20c3c618"
      },
      "execution_count": null,
      "outputs": [
        {
          "output_type": "execute_result",
          "data": {
            "text/plain": [
              "LinearRegression()"
            ]
          },
          "metadata": {},
          "execution_count": 92
        }
      ]
    },
    {
      "cell_type": "markdown",
      "source": [
        "**STEP 5: Testing the model (5 Points)**\n",
        "\n",
        "**TODO:** Find target predictions by giving **X_test** input to your model and store them in **y_pred**."
      ],
      "metadata": {
        "id": "mMz-UURw5vdw"
      }
    },
    {
      "cell_type": "code",
      "source": [
        "##### INPUT CODE HERE (~1 line of code) ######\n",
        "\n",
        "y_pred = regr.predict(X_test)\n",
        "\n",
        "##############################################"
      ],
      "metadata": {
        "id": "L_BOtwab5p7R"
      },
      "execution_count": null,
      "outputs": []
    },
    {
      "cell_type": "markdown",
      "source": [
        "**STEP 6: Model Evaluation (15 Points)**\n",
        "\n",
        "**TODO:** **Compute RMSE (Root Mean Square Error) and R2_Score for testing data**. \n",
        "\n",
        "For RMSE, you can use sklean_metrics library. You can learn about RMSE from [here](https://towardsdatascience.com/what-does-rmse-really-mean-806b65f2e48e#:~:text=Root%20Mean%20Square%20Error%20(RMSE)%20is%20a%20standard%20way%20to,it%20is%20defined%20as%20follows%3A&text=This%20tells%20us%20heuristically%20that,the%20vector%20of%20observed%20values.).\n",
        "\n",
        "For R2_Score, you can use sklean_metrics library. You can learn about R2 Score from [here](https://scikit-learn.org/stable/modules/generated/sklearn.metrics.r2_score.html)."
      ],
      "metadata": {
        "id": "3_nY9--N6Gyq"
      }
    },
    {
      "cell_type": "code",
      "source": [
        "##### INPUT CODE HERE (~2 line of code) ######\n",
        "\n",
        "rmse = mean_squared_error(y_test,y_pred, squared=False)\n",
        "r2 = r2_score(y_test,y_pred)\n",
        "\n",
        "##############################################\n",
        "print(\"The model performance for training set\")\n",
        "print(\"--------------------------------------\")\n",
        "print('RMSE is {}'.format(rmse))\n",
        "print('R2 score is {}'.format(r2))\n",
        "print(\"\\n\")"
      ],
      "metadata": {
        "colab": {
          "base_uri": "https://localhost:8080/"
        },
        "id": "_nYxBDfz6OQO",
        "outputId": "d1761c6b-6bce-4fea-e351-059883ee3ec7"
      },
      "execution_count": null,
      "outputs": [
        {
          "output_type": "stream",
          "name": "stdout",
          "text": [
            "The model performance for training set\n",
            "--------------------------------------\n",
            "RMSE is 58.51766133582009\n",
            "R2 score is 0.33222203269065154\n",
            "\n",
            "\n"
          ]
        }
      ]
    },
    {
      "cell_type": "markdown",
      "source": [
        "**STEP 6: Visualise the results**"
      ],
      "metadata": {
        "id": "RUoSqn8I9ewY"
      }
    },
    {
      "cell_type": "code",
      "source": [
        "plt.scatter(y_test, y_pred)\n",
        "plt.show()"
      ],
      "metadata": {
        "colab": {
          "base_uri": "https://localhost:8080/",
          "height": 265
        },
        "id": "4phn_Qi982qY",
        "outputId": "415c9313-e579-4ae0-df2a-5063d9aa76f4"
      },
      "execution_count": null,
      "outputs": [
        {
          "output_type": "display_data",
          "data": {
            "image/png": "[encoded data removed]",
            "text/plain": [
              "<Figure size 432x288 with 1 Axes>"
            ]
          },
          "metadata": {
            "needs_background": "light"
          }
        }
      ]
    },
    {
      "cell_type": "markdown",
      "source": [
        "# **Support Vector Machines (60 points)**\n",
        "\n",
        "SVM is a supervised machine learning algorithm that helps in classification or regression problems. It aims to find an optimal boundary between the possible outputs.\n",
        "\n",
        "Simply put, SVM does complex data transformations depending on the selected kernel function and based on that transformations, it tries to maximize the separation boundaries between your data points depending on the labels or classes you’ve defined. The data points with the minimum distance to the hyperplane are called Support Vectors."
      ],
      "metadata": {
        "id": "n7X926d4AHNb"
      }
    },
    {
      "cell_type": "markdown",
      "source": [
        "## **Multiclass Classification using Support Vector Machine**\n",
        "\n",
        "In its most simple type SVM are applied on binary classification, dividing data points either in 1 or 0. For multiclass classification, the same principle is utilized after breaking down the multiclassification problem into multiple binary classification problems.\n",
        "\n",
        "The idea is to map data points to high dimensional space to gain mutual linear separation between every two classes. This is called a **One-to-One approach**, which breaks down the multiclass problem into multiple binary classification problems. A binary classifier per each pair of classes.\n",
        "\n",
        "Another approach one can use is **One-to-Rest**. In that approach, the breakdown is set to a binary classifier per each class."
      ],
      "metadata": {
        "id": "7n2B8jMBB5Ll"
      }
    },
    {
      "cell_type": "markdown",
      "source": [
        "In **scikit-learn** one-vs-one is not default and needs to be selected explicitly (as can be seen further down in the code). One-vs-rest is set as default. It basically divides the data points in class x and rest. Consecutively a certain class is distinguished from all other classes.\n",
        "\n",
        "**Objective:**\n",
        "\n",
        "*This programming assignment will help you understand to:*\n",
        "\n",
        "\n",
        "*   Use two SVM different classifiers to show the usage of two different kernel functions; Polynomial and RBF.\n",
        "*   Tune the hyperparameters for both the classifiers. \n",
        "*   Calculate the accuracy and f1 scores to show the performance difference between the two selected kernel functions on the same data set.\n",
        "\n",
        "**In this code, we use the Iris flower data set.** That data set contains three classes of 50 instances each, where each class refers to a type of Iris plant. You can read about Iris dataset from https://archive.ics.uci.edu/ml/datasets/iris."
      ],
      "metadata": {
        "id": "3cC7ZybSCctK"
      }
    },
    {
      "cell_type": "markdown",
      "source": [
        "**STEP 1: Importing all the required libraries.**"
      ],
      "metadata": {
        "id": "HXJjTdQrDGzp"
      }
    },
    {
      "cell_type": "code",
      "source": [
        "from sklearn.metrics import confusion_matrix, ConfusionMatrixDisplay\n",
        "from sklearn.model_selection import train_test_split\n",
        "from sklearn.model_selection import cross_val_score\n",
        "from sklearn import svm, datasets\n",
        "import matplotlib.pyplot as plt\n",
        "import numpy as np\n",
        "from sklearn.metrics import accuracy_score\n",
        "from sklearn.metrics import f1_score"
      ],
      "metadata": {
        "id": "Pgc2MJTlCfc4"
      },
      "execution_count": null,
      "outputs": []
    },
    {
      "cell_type": "markdown",
      "source": [
        "**STEP 2: Importing Dataset**\n",
        "\n",
        "We will load the Iris DataSet from scikit-learn. For better understanding and visualisation in a 2D plane, we'll use the first two features as X (sepal length and sepal width of the iris flowers)."
      ],
      "metadata": {
        "id": "qD33iCfsDaNf"
      }
    },
    {
      "cell_type": "code",
      "source": [
        "iris = datasets.load_iris()\n",
        "X = iris.data[:, :2]\n",
        "y = iris.target"
      ],
      "metadata": {
        "id": "lvvf4Rd_DXwv"
      },
      "execution_count": null,
      "outputs": []
    },
    {
      "cell_type": "markdown",
      "source": [
        "\n",
        "Learning the parameters of a prediction function and testing it on the same data is a methodological mistake: a model that would just repeat the labels of the samples that it has just seen would have a perfect score but would fail to predict anything useful on yet-unseen data. **This situation is called overfitting.** To avoid it, it is common practice when performing a (supervised) machine learning experiment to hold out part of the available data as a test set X_test, y_test.\n",
        "\n",
        "Similarly, when evaluating different settings (“hyperparameters”) for estimators, such as the C setting that must be manually set for an SVM, there is still a risk of overfitting on the test set because the parameters can be tweaked until the estimator performs optimally. This way, knowledge about the test set can “leak” into the model and evaluation metrics no longer report on generalization performance. To solve this problem, yet another part of the dataset can be held out as a so-called “**validation set**”: training proceeds on the training set, after which evaluation is done on the validation set, and when the experiment seems to be successful, final evaluation can be done on the test set.\n",
        "\n",
        "You can read more about it from [here](https://scikit-learn.org/stable/modules/cross_validation.html)."
      ],
      "metadata": {
        "id": "FbdSkwZDED3F"
      }
    },
    {
      "cell_type": "markdown",
      "source": [
        "**STEP 3: Hyperparameter Tuning (30 Points)**\n",
        "\n",
        "**TODO:** Create two objects from SVM, to create two different classifiers; one with **Polynomial kernel**, and another one with **RBF kernel**. You can read about Polynomial and RBF Kernel from [here](https://scikit-learn.org/stable/modules/svm.html).\n",
        "\n",
        "\n",
        "\n",
        "**TODO:** For both RBF and Polynomial Kernel, you are required to tune the hyperparameters. \n",
        "\n",
        "The [hyperparameters](https://towardsdatascience.com/svm-hyperparameters-explained-with-visualizations-143e48cb701b) you'll be tuning are as follows:\n",
        "\n",
        "*   For **RBF kernel**, you'll be tuning 'gamma' and 'penalty term (C)'. \n",
        "*   For **Polynomial kernel**, you'll be tuning 'degree' and 'penalty term (C)'. \n",
        "\n",
        "For the multiclass classification, the type one-versus-one will be specified, i.e. use decision_function_shape=’ovo’.\n",
        "\n",
        "All other parameters are set to default. \n",
        "\n",
        "*NOTE: We select the hyperparameters that give us highest accuracy.*\n",
        "\n",
        "**RBF kernel**\n",
        "\n",
        "1. Penalty term, C,: Try values 1 to 3.\n",
        "2. Penalty term, gamma,: Try values 1 to 5.\n",
        "\n",
        "**Polynomial kernel**\n",
        "\n",
        "1. Penalty term, C,: Try values 1 to 3.\n",
        "2. Penalty term, degree,: Try values 1 to 5.\n",
        "\n",
        "\n",
        "STEPS:\n",
        "\n",
        "1. For each possible combination of C and Gamma (rbf kernel) or C and Degree (poly kernel) as given above, compute the accuracy of your model using\n",
        "\n",
        "   ` cross_val_score(classifier_instance, X, y, cv=5).mean()`\n",
        "\n",
        "2. Find the hyperparameters, which give you the best accuracy. \n",
        "\n",
        "3. Use that hyperparameter for fitting the model."
      ],
      "metadata": {
        "id": "gR46FlKBEaaZ"
      }
    },
    {
      "cell_type": "code",
      "source": [
        "##### INPUT CODE HERE (~20 line of code) ######\n",
        "\n",
        "### RBF Kernel\n",
        "\n",
        "scores_rbf = []\n",
        "for c in range(1, 4):\n",
        "  for g in range(1, 6):\n",
        "    rbf = svm.SVC(kernel='rbf', gamma=g, C=c, decision_function_shape='ovo')\n",
        "    score = cross_val_score(rbf, X, y, cv=5).mean()\n",
        "    scores_rbf.append([[c, g], score])\n",
        "\n",
        "scores_rbf.sort(key = lambda x: x[1], reverse = True)\n",
        "\n",
        "gamma_rbf = scores_rbf[0][0][1]\n",
        "c_rbf = scores_rbf[0][0][0]\n",
        "\n",
        "print(\"Best pair of hyperparameters (C, Gamma) for RBF Kernel is (\" + str(c_rbf) + \", \" + str(gamma_rbf) + \")\")\n",
        "\n",
        "### RBF Kernel\n",
        "\n",
        "scores_poly = []\n",
        "for c in range(1, 4):\n",
        "  for d in range(1, 6):\n",
        "    poly = svm.SVC(kernel='poly', degree=d, C=c, decision_function_shape='ovo')\n",
        "    score = cross_val_score(poly, X, y, cv=5).mean()\n",
        "    scores_poly.append([[c, d], score])\n",
        "\n",
        "scores_poly.sort(key = lambda x: x[1], reverse = True)\n",
        "\n",
        "d_poly = scores_poly[0][0][1]\n",
        "c_poly = scores_poly[0][0][0]\n",
        "\n",
        "print(\"Best pair of hyperparameters (Degree, Gamma) for Poly Kernel is (\" + str(d_poly) + \", \" + str(c_poly) + \")\")\n",
        "##############################################\n"
      ],
      "metadata": {
        "id": "DRYRnnXeEPvA",
        "colab": {
          "base_uri": "https://localhost:8080/"
        },
        "outputId": "b5da8e12-4f0b-4904-fd7d-1cf7d2955ec0"
      },
      "execution_count": null,
      "outputs": [
        {
          "output_type": "stream",
          "name": "stdout",
          "text": [
            "Best pair of hyperparameters (C, Gamma) for RBF Kernel is (1, 1)\n",
            "Best pair of hyperparameters (Degree, Gamma) for Poly Kernel is (1, 3)\n"
          ]
        }
      ]
    },
    {
      "cell_type": "markdown",
      "source": [
        "After hyperparameter tuning, now let's divide the dataset into training and test data. "
      ],
      "metadata": {
        "id": "GuNqeQzzBVOe"
      }
    },
    {
      "cell_type": "code",
      "source": [
        "X_train, X_test, y_train, y_test = train_test_split(X, y, test_size = 0.2, random_state = 0)\n",
        "  "
      ],
      "metadata": {
        "id": "ka3xnc3pBd2V"
      },
      "execution_count": null,
      "outputs": []
    },
    {
      "cell_type": "markdown",
      "source": [
        "Now, let us create two objects from SVM, to create two different classifiers; one with Polynomial kernel, and another one with RBF kernel. *Use the best pair of hyperparameters as found above.*"
      ],
      "metadata": {
        "id": "zpxNkwhpBqXG"
      }
    },
    {
      "cell_type": "code",
      "source": [
        "rbf = svm.SVC(kernel='rbf', gamma=gamma_rbf, C=c_rbf, decision_function_shape='ovo')\n",
        "poly = svm.SVC(kernel='poly', degree=d_poly, C=c_poly, decision_function_shape='ovo')\n",
        "\n",
        "rbf.fit(X_train, y_train)\n",
        "poly.fit(X_train, y_train)"
      ],
      "metadata": {
        "colab": {
          "base_uri": "https://localhost:8080/"
        },
        "id": "GX9nRyXRB6lG",
        "outputId": "e5ba3704-9d94-471f-a784-e55c07c77417"
      },
      "execution_count": null,
      "outputs": [
        {
          "output_type": "execute_result",
          "data": {
            "text/plain": [
              "SVC(C=3, decision_function_shape='ovo', degree=1, kernel='poly')"
            ]
          },
          "metadata": {},
          "execution_count": 100
        }
      ]
    },
    {
      "cell_type": "markdown",
      "source": [
        "**STEP 5: Testing the model (10 Points)**\n",
        "\n",
        "**TODO:** Find target predictions by giving X_test input to your two models and store them in y_pred."
      ],
      "metadata": {
        "id": "noySXLUGFhUT"
      }
    },
    {
      "cell_type": "code",
      "source": [
        "##### INPUT CODE HERE (~2 line of code) ######\n",
        "\n",
        "poly_pred = poly.predict(X_test)\n",
        "rbf_pred = rbf.predict(X_test)\n",
        "\n",
        "##############################################"
      ],
      "metadata": {
        "id": "Ll1f-gpwFNhx"
      },
      "execution_count": null,
      "outputs": []
    },
    {
      "cell_type": "markdown",
      "source": [
        "**STEP 6: Models Evaluation (20 Points)**\n",
        "\n",
        "**TODO:**\n",
        "\n",
        "*   Calculate the accuracy and f1 scores for SVM with RBF kernel\n",
        "*   Calculate the accuracy and f1 scores for SVM with Polynomial kernel\n",
        "\n",
        "Out of the known metrics for validating machine learning models, we choose Accuracy and F1 as they are the most used in supervised machine learning.\n",
        "\n",
        "For the **accuracy score**, it shows the percentage of the true positive and true negative to all data points. So, it’s useful when the data set is balanced.\n",
        "\n",
        "For the **f1 score**, it calculates the harmonic mean between precision and recall, and both depend on the false positive and false negative. So, it’s useful to calculate the f1 score when the data set isn’t balanced.\n",
        "\n"
      ],
      "metadata": {
        "id": "YAVVUvM8F79Q"
      }
    },
    {
      "cell_type": "code",
      "source": [
        "##### INPUT CODE HERE (~2 line of code) ######\n",
        "\n",
        "rbf_accuracy = accuracy_score(y_test, rbf_pred)\n",
        "rbf_f1 = f1_score(y_test, rbf_pred, average='weighted')\n",
        "\n",
        "##############################################\n",
        "\n",
        "print('Accuracy (RBF Kernel): ', \"%.2f\" % (rbf_accuracy*100))\n",
        "print('F1 (RBF Kernel): ', \"%.2f\" % (rbf_f1*100))"
      ],
      "metadata": {
        "colab": {
          "base_uri": "https://localhost:8080/"
        },
        "id": "4ZAnpEAOGM9w",
        "outputId": "2dde24e7-62d7-4174-e3de-fcaabef4bf20"
      },
      "execution_count": null,
      "outputs": [
        {
          "output_type": "stream",
          "name": "stdout",
          "text": [
            "Accuracy (RBF Kernel):  66.67\n",
            "F1 (RBF Kernel):  67.22\n"
          ]
        }
      ]
    },
    {
      "cell_type": "code",
      "source": [
        "##### INPUT CODE HERE (~2 line of code) ######\n",
        "\n",
        "poly_accuracy = accuracy_score(y_test, poly_pred)\n",
        "poly_f1 = f1_score(y_test, poly_pred, average='weighted')\n",
        "\n",
        "##############################################\n",
        "\n",
        "print('Accuracy (Polynomial Kernel): ', \"%.2f\" % (poly_accuracy*100))\n",
        "print('F1 (Polynomial Kernel): ', \"%.2f\" % (poly_f1*100))"
      ],
      "metadata": {
        "colab": {
          "base_uri": "https://localhost:8080/"
        },
        "id": "XwjDeDMwGjVU",
        "outputId": "62f7cb5e-f789-4615-d556-498e94312920"
      },
      "execution_count": null,
      "outputs": [
        {
          "output_type": "stream",
          "name": "stdout",
          "text": [
            "Accuracy (Polynomial Kernel):  73.33\n",
            "F1 (Polynomial Kernel):  74.13\n"
          ]
        }
      ]
    },
    {
      "cell_type": "markdown",
      "source": [
        "**STEP 7: Visualising Results**"
      ],
      "metadata": {
        "id": "_Kck-9KuHHjq"
      }
    },
    {
      "cell_type": "code",
      "source": [
        "#stepsize in the mesh, it alters the accuracy of the plotprint\n",
        "#to better understand it, just play with the value, change it and print it\n",
        "h = .01\n",
        "#create the mesh\n",
        "x_min, x_max = X[:, 0].min() - 1, X[:, 0].max() + 1\n",
        "y_min, y_max = X[:, 1].min() - 1, X[:, 1].max() + 1\n",
        "xx, yy = np.meshgrid(np.arange(x_min, x_max, h),np.arange(y_min, y_max, h))\n",
        "# create the title that will be shown on the plot\n",
        "titles = ['RBF kernel','Polynomial kernel']\n",
        "\n",
        "for i, clf in enumerate((rbf, poly)):\n",
        "    #defines how many plots: 2 rows, 2columns=> leading to 4 plots\n",
        "    plt.subplot(2, 2, i + 1) #i+1 is the index\n",
        "    #space between plots\n",
        "    plt.subplots_adjust(wspace=0.4, hspace=0.4) \n",
        "    Z = clf.predict(np.c_[xx.ravel(), yy.ravel()])\n",
        "    # Put the result into a color plot\n",
        "    Z = Z.reshape(xx.shape)\n",
        "    plt.contourf(xx, yy, Z, cmap=plt.cm.PuBuGn, alpha=0.7)\n",
        "    # Plot also the training points\n",
        "    plt.scatter(X[:, 0], X[:, 1], c=y, cmap=plt.cm.PuBuGn,     edgecolors='grey')\n",
        "    plt.xlabel('Sepal length')\n",
        "    plt.ylabel('Sepal width')\n",
        "    plt.xlim(xx.min(), xx.max())\n",
        "    plt.ylim(yy.min(), yy.max())\n",
        "    plt.xticks(())\n",
        "    plt.yticks(())\n",
        "    plt.title(titles[i])\n",
        "    plt.show()"
      ],
      "metadata": {
        "colab": {
          "base_uri": "https://localhost:8080/",
          "height": 287
        },
        "id": "xLIRk_evGuEb",
        "outputId": "0e5a366f-19fb-491b-d67c-8be4ebdfaabb"
      },
      "execution_count": null,
      "outputs": [
        {
          "output_type": "display_data",
          "data": {
            "image/png": "[encoded data removed]",
            "text/plain": [
              "<Figure size 432x288 with 1 Axes>"
            ]
          },
          "metadata": {}
        },
        {
          "output_type": "display_data",
          "data": {
            "image/png": "[encoded data removed]",
            "text/plain": [
              "<Figure size 432x288 with 1 Axes>"
            ]
          },
          "metadata": {}
        }
      ]
    },
    {
      "cell_type": "code",
      "source": [
        "# creating a confusion matrix\n",
        "cm_poly = confusion_matrix(y_test, poly_pred)\n",
        "cmd = ConfusionMatrixDisplay(cm_poly, display_labels=iris.target_names)\n",
        "cmd.plot()"
      ],
      "metadata": {
        "colab": {
          "base_uri": "https://localhost:8080/",
          "height": 296
        },
        "id": "6lR0qKNAH8v6",
        "outputId": "6f7a90d1-aebb-4b41-90a0-11b1cf38ccc1"
      },
      "execution_count": null,
      "outputs": [
        {
          "output_type": "execute_result",
          "data": {
            "text/plain": [
              "<sklearn.metrics._plot.confusion_matrix.ConfusionMatrixDisplay at 0x7f7ecf5b9910>"
            ]
          },
          "metadata": {},
          "execution_count": 105
        },
        {
          "output_type": "display_data",
          "data": {
            "image/png": "[encoded data removed]",
            "text/plain": [
              "<Figure size 432x288 with 2 Axes>"
            ]
          },
          "metadata": {
            "needs_background": "light"
          }
        }
      ]
    },
    {
      "cell_type": "code",
      "source": [
        "# creating a confusion matrix\n",
        "cm_rbf = confusion_matrix(y_test, rbf_pred)\n",
        "cmd = ConfusionMatrixDisplay(cm_rbf, display_labels=iris.target_names)\n",
        "cmd.plot()"
      ],
      "metadata": {
        "colab": {
          "base_uri": "https://localhost:8080/",
          "height": 296
        },
        "id": "Gez_1vpDILLO",
        "outputId": "fdfc0a96-67fb-4af3-b1db-923b2d1f12c9"
      },
      "execution_count": null,
      "outputs": [
        {
          "output_type": "execute_result",
          "data": {
            "text/plain": [
              "<sklearn.metrics._plot.confusion_matrix.ConfusionMatrixDisplay at 0x7f7ecfb3b110>"
            ]
          },
          "metadata": {},
          "execution_count": 106
        },
        {
          "output_type": "display_data",
          "data": {
            "image/png": "[encoded data removed]",
            "text/plain": [
              "<Figure size 432x288 with 2 Axes>"
            ]
          },
          "metadata": {
            "needs_background": "light"
          }
        }
      ]
    },
    {
      "cell_type": "code",
      "source": [
        ""
      ],
      "metadata": {
        "id": "3Q48wjTNP948"
      },
      "execution_count": null,
      "outputs": []
    }
  ]
}