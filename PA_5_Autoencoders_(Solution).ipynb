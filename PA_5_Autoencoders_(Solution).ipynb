{
  "nbformat": 4,
  "nbformat_minor": 0,
  "metadata": {
    "colab": {
      "name": "PA-5 Autoencoders (solution).ipynb",
      "provenance": [],
      "collapsed_sections": [],
      "toc_visible": true
    },
    "kernelspec": {
      "name": "python3",
      "display_name": "Python 3"
    },
    "language_info": {
      "name": "python"
    }
  },
  "cells": [
    {
      "cell_type": "markdown",
      "source": [
        "# Autoencoders"
      ],
      "metadata": {
        "id": "FhfRrKRN-zl1"
      }
    },
    {
      "cell_type": "markdown",
      "source": [
        "\"Autoencoding\" is a data compression algorithm where the compression and decompression functions are 1) data-specific, 2) lossy, and 3) learned automatically from examples rather than engineered by a human. \n",
        "\n",
        "Additionally, in almost all contexts where the term \"autoencoder\" is used, the compression and decompression functions are implemented with neural networks.\n",
        "\n",
        "In this assignment, you will learn to implement simple and convolutional autoencoders as well as see practical demonstration in denoising data.\n"
      ],
      "metadata": {
        "id": "tV84wy1P-5D3"
      }
    },
    {
      "cell_type": "markdown",
      "source": [
        "##Step 0: Import Libraries\n",
        "\n",
        "Import the necesary libraries for this assignment."
      ],
      "metadata": {
        "id": "6ASzFRuf_SDk"
      }
    },
    {
      "cell_type": "code",
      "source": [
        "import numpy as np\n",
        "import keras\n",
        "from keras import layers\n",
        "from keras.datasets import mnist\n",
        "import matplotlib.pyplot as plt"
      ],
      "metadata": {
        "id": "Vy6_EmfP_WRR"
      },
      "execution_count": 1,
      "outputs": []
    },
    {
      "cell_type": "markdown",
      "source": [
        "## Step 1 [2 points]: Import Data\n",
        "We will be using the [MNIST](https://keras.io/api/datasets/mnist/) dataset for this programming assignment.\n",
        "Load mnist data from the keras datasets library and load the x_train and x_test variables.\n"
      ],
      "metadata": {
        "id": "5KVZLWE4-_xl"
      }
    },
    {
      "cell_type": "code",
      "source": [
        "\n",
        "##### INPUT CODE HERE (~1 lines of code) ######\n",
        "\n",
        "(x_train, _), (x_test, _) = mnist.load_data()\n",
        "\n",
        "###############################################\n",
        "\n",
        "assert x_train.shape == (60000, 28, 28)\n",
        "assert x_test.shape == (10000, 28, 28)"
      ],
      "metadata": {
        "id": "XFhzv-Jw_Nee",
        "colab": {
          "base_uri": "https://localhost:8080/"
        },
        "outputId": "d4014d82-9a07-4b1f-98db-62080532b27c"
      },
      "execution_count": 2,
      "outputs": [
        {
          "output_type": "stream",
          "name": "stdout",
          "text": [
            "Downloading data from https://storage.googleapis.com/tensorflow/tf-keras-datasets/mnist.npz\n",
            "11493376/11490434 [==============================] - 0s 0us/step\n",
            "11501568/11490434 [==============================] - 0s 0us/step\n"
          ]
        }
      ]
    },
    {
      "cell_type": "markdown",
      "source": [
        "## Step 2 [8 points]: Preprocess Data\n",
        "\n",
        "Normalize all values between 0 and 1 and we will flatten the 28x28 images into vectors of size 784.\n"
      ],
      "metadata": {
        "id": "jyM3naS4_60r"
      }
    },
    {
      "cell_type": "code",
      "source": [
        "##### INPUT CODE HERE (~4 lines of code) ######\n",
        "\n",
        "x_train = x_train.astype('float32') / 255.\n",
        "x_test = x_test.astype('float32') / 255.\n",
        "x_train = x_train.reshape((len(x_train), np.prod(x_train.shape[1:])))\n",
        "x_test = x_test.reshape((len(x_test), np.prod(x_test.shape[1:])))\n",
        "\n",
        "###############################################\n",
        "\n",
        "print(x_train.shape)\n",
        "print(x_test.shape)\n",
        "\n",
        "assert x_train.shape == (60000, 784)\n",
        "assert x_test.shape == (10000, 784)\n",
        "\n",
        "assert len([i for i in x_train[0] if i > 1 and i<0]) == 0\n",
        "assert len([i for i in x_test[0] if i > 1 and i<0]) == 0\n"
      ],
      "metadata": {
        "colab": {
          "base_uri": "https://localhost:8080/"
        },
        "id": "wBqpPTIp_6S8",
        "outputId": "174b27c1-2b8a-4144-d2ca-cfdd03b2645e"
      },
      "execution_count": 3,
      "outputs": [
        {
          "output_type": "stream",
          "name": "stdout",
          "text": [
            "(60000, 784)\n",
            "(10000, 784)\n"
          ]
        }
      ]
    },
    {
      "cell_type": "markdown",
      "source": [
        "## Step 3 [20 points]: Setup Autoencoder\n",
        "\n",
        "Setup an autoencoder with encoding and decoding layers having encoding dimension of 32. Use relu activation for the encoding layer and sigmoid activation for the decoding layer.\n",
        "\n",
        "Useful Links:\n",
        "1. [Layers](https://keras.io/api/layers/core_layers/dense/)\n",
        "2. [Model](https://keras.io/api/models/model/)"
      ],
      "metadata": {
        "id": "fAYNBH6_FBsp"
      }
    },
    {
      "cell_type": "code",
      "execution_count": 4,
      "metadata": {
        "id": "CgjvyqTy5Jxx"
      },
      "outputs": [],
      "source": [
        "encoding_dim = 32\n",
        "input_img = keras.Input(shape=(784,))\n",
        "\n",
        "################ INPUT CODE HERE (~3 lines of code) #####################\n",
        "\n",
        "encoded = layers.Dense(encoding_dim, activation='relu')(input_img)\n",
        "decoded = layers.Dense(784, activation='sigmoid')(encoded)\n",
        "autoencoder = keras.Model(input_img, decoded)\n",
        "\n",
        "#########################################################################"
      ]
    },
    {
      "cell_type": "markdown",
      "source": [
        "## Step 3 [20 points]: Run Autoencoder\n",
        "\n",
        "First, [configure](https://www.tensorflow.org/api_docs/python/tf/keras/Model#compile) the autoencoder model to use a per-pixel [binary crossentropy](https://keras.io/api/losses/probabilistic_losses/#binarycrossentropy-class) loss, and the Adam optimizer:"
      ],
      "metadata": {
        "id": "IFd2VWmgHJ5T"
      }
    },
    {
      "cell_type": "code",
      "source": [
        "################ INPUT CODE HERE (~1 lines of code) #####################\n",
        "\n",
        "autoencoder.compile(optimizer='adam', loss='binary_crossentropy')\n",
        "\n",
        "#########################################################################"
      ],
      "metadata": {
        "id": "8N6-cuz56Wdx"
      },
      "execution_count": 5,
      "outputs": []
    },
    {
      "cell_type": "markdown",
      "source": [
        "Next, [train](https://www.tensorflow.org/api_docs/python/tf/keras/Model#fit) the autoencoder for 50 epochs and batch size 256:"
      ],
      "metadata": {
        "id": "Wxupmex-Hf17"
      }
    },
    {
      "cell_type": "code",
      "source": [
        "################ INPUT CODE HERE (~1 lines of code) #####################\n",
        "\n",
        "autoencoder.fit(x_train, x_train,\n",
        "                epochs=50,\n",
        "                batch_size=256,\n",
        "                shuffle=True)\n",
        "\n",
        "#########################################################################"
      ],
      "metadata": {
        "colab": {
          "base_uri": "https://localhost:8080/"
        },
        "id": "etRsDP-v6hdb",
        "outputId": "019812ea-e8f7-4cdc-8131-7c734cbf1320"
      },
      "execution_count": 6,
      "outputs": [
        {
          "output_type": "stream",
          "name": "stdout",
          "text": [
            "Epoch 1/50\n",
            "235/235 [==============================] - 5s 17ms/step - loss: 0.2762\n",
            "Epoch 2/50\n",
            "235/235 [==============================] - 4s 16ms/step - loss: 0.1719\n",
            "Epoch 3/50\n",
            "235/235 [==============================] - 3s 14ms/step - loss: 0.1441\n",
            "Epoch 4/50\n",
            "235/235 [==============================] - 2s 9ms/step - loss: 0.1278\n",
            "Epoch 5/50\n",
            "235/235 [==============================] - 2s 9ms/step - loss: 0.1175\n",
            "Epoch 6/50\n",
            "235/235 [==============================] - 2s 9ms/step - loss: 0.1103\n",
            "Epoch 7/50\n",
            "235/235 [==============================] - 2s 9ms/step - loss: 0.1052\n",
            "Epoch 8/50\n",
            "235/235 [==============================] - 2s 10ms/step - loss: 0.1015\n",
            "Epoch 9/50\n",
            "235/235 [==============================] - 2s 10ms/step - loss: 0.0989\n",
            "Epoch 10/50\n",
            "235/235 [==============================] - 2s 10ms/step - loss: 0.0971\n",
            "Epoch 11/50\n",
            "235/235 [==============================] - 2s 9ms/step - loss: 0.0959\n",
            "Epoch 12/50\n",
            "235/235 [==============================] - 2s 9ms/step - loss: 0.0952\n",
            "Epoch 13/50\n",
            "235/235 [==============================] - 2s 9ms/step - loss: 0.0946\n",
            "Epoch 14/50\n",
            "235/235 [==============================] - 2s 9ms/step - loss: 0.0943\n",
            "Epoch 15/50\n",
            "235/235 [==============================] - 2s 9ms/step - loss: 0.0940\n",
            "Epoch 16/50\n",
            "235/235 [==============================] - 2s 10ms/step - loss: 0.0938\n",
            "Epoch 17/50\n",
            "235/235 [==============================] - 2s 9ms/step - loss: 0.0937\n",
            "Epoch 18/50\n",
            "235/235 [==============================] - 2s 9ms/step - loss: 0.0935\n",
            "Epoch 19/50\n",
            "235/235 [==============================] - 3s 11ms/step - loss: 0.0935\n",
            "Epoch 20/50\n",
            "235/235 [==============================] - 2s 10ms/step - loss: 0.0934\n",
            "Epoch 21/50\n",
            "235/235 [==============================] - 2s 9ms/step - loss: 0.0933\n",
            "Epoch 22/50\n",
            "235/235 [==============================] - 2s 10ms/step - loss: 0.0932\n",
            "Epoch 23/50\n",
            "235/235 [==============================] - 2s 9ms/step - loss: 0.0932\n",
            "Epoch 24/50\n",
            "235/235 [==============================] - 2s 9ms/step - loss: 0.0931\n",
            "Epoch 25/50\n",
            "235/235 [==============================] - 3s 11ms/step - loss: 0.0931\n",
            "Epoch 26/50\n",
            "235/235 [==============================] - 2s 10ms/step - loss: 0.0930\n",
            "Epoch 27/50\n",
            "235/235 [==============================] - 2s 10ms/step - loss: 0.0930\n",
            "Epoch 28/50\n",
            "235/235 [==============================] - 2s 9ms/step - loss: 0.0929\n",
            "Epoch 29/50\n",
            "235/235 [==============================] - 2s 10ms/step - loss: 0.0929\n",
            "Epoch 30/50\n",
            "235/235 [==============================] - 2s 10ms/step - loss: 0.0929\n",
            "Epoch 31/50\n",
            "235/235 [==============================] - 2s 10ms/step - loss: 0.0929\n",
            "Epoch 32/50\n",
            "235/235 [==============================] - 2s 10ms/step - loss: 0.0928\n",
            "Epoch 33/50\n",
            "235/235 [==============================] - 2s 10ms/step - loss: 0.0928\n",
            "Epoch 34/50\n",
            "235/235 [==============================] - 3s 11ms/step - loss: 0.0928\n",
            "Epoch 35/50\n",
            "235/235 [==============================] - 2s 10ms/step - loss: 0.0928\n",
            "Epoch 36/50\n",
            "235/235 [==============================] - 2s 10ms/step - loss: 0.0927\n",
            "Epoch 37/50\n",
            "235/235 [==============================] - 3s 11ms/step - loss: 0.0927\n",
            "Epoch 38/50\n",
            "235/235 [==============================] - 3s 11ms/step - loss: 0.0927\n",
            "Epoch 39/50\n",
            "235/235 [==============================] - 3s 11ms/step - loss: 0.0927\n",
            "Epoch 40/50\n",
            "235/235 [==============================] - 3s 11ms/step - loss: 0.0927\n",
            "Epoch 41/50\n",
            "235/235 [==============================] - 3s 11ms/step - loss: 0.0927\n",
            "Epoch 42/50\n",
            "235/235 [==============================] - 3s 14ms/step - loss: 0.0926\n",
            "Epoch 43/50\n",
            "235/235 [==============================] - 2s 10ms/step - loss: 0.0926\n",
            "Epoch 44/50\n",
            "235/235 [==============================] - 2s 10ms/step - loss: 0.0926\n",
            "Epoch 45/50\n",
            "235/235 [==============================] - 2s 10ms/step - loss: 0.0926\n",
            "Epoch 46/50\n",
            "235/235 [==============================] - 2s 10ms/step - loss: 0.0926\n",
            "Epoch 47/50\n",
            "235/235 [==============================] - 2s 10ms/step - loss: 0.0926\n",
            "Epoch 48/50\n",
            "235/235 [==============================] - 2s 10ms/step - loss: 0.0926\n",
            "Epoch 49/50\n",
            "235/235 [==============================] - 2s 9ms/step - loss: 0.0926\n",
            "Epoch 50/50\n",
            "235/235 [==============================] - 3s 11ms/step - loss: 0.0926\n"
          ]
        },
        {
          "output_type": "execute_result",
          "data": {
            "text/plain": [
              "<keras.callbacks.History at 0x7f2d69568690>"
            ]
          },
          "metadata": {},
          "execution_count": 6
        }
      ]
    },
    {
      "cell_type": "markdown",
      "source": [
        "Both the training and validation loss should converge at a value <= 0.1\n"
      ],
      "metadata": {
        "id": "sPn-s_kfu67c"
      }
    },
    {
      "cell_type": "markdown",
      "source": [
        "Now find the decoded versions of the x_test values, i.e. [run](https://www.tensorflow.org/api_docs/python/tf/keras/Model#predict) your model on x_test and store the outputs in decoded_imgs."
      ],
      "metadata": {
        "id": "UuceI2rAec9o"
      }
    },
    {
      "cell_type": "code",
      "source": [
        "################ INPUT CODE HERE (~1 lines of code) #####################\n",
        "\n",
        "decoded_imgs = autoencoder.predict(x_test)\n",
        "\n",
        "#########################################################################"
      ],
      "metadata": {
        "id": "MSm_t4FHd4gV"
      },
      "execution_count": 7,
      "outputs": []
    },
    {
      "cell_type": "markdown",
      "source": [
        "##Step 5: Visualize Results:\n",
        "\n",
        "Here, you can visualize that the decoded output of your x_test data set along with the original images. "
      ],
      "metadata": {
        "id": "pI5GsX3eH-wV"
      }
    },
    {
      "cell_type": "code",
      "source": [
        "n = 10\n",
        "plt.figure(figsize=(20, 4))\n",
        "for i in range(n):\n",
        "    \n",
        "    ax = plt.subplot(2, n, i + 1)\n",
        "    plt.imshow(x_test[i].reshape(28, 28))\n",
        "    plt.gray()\n",
        "    ax.get_xaxis().set_visible(False)\n",
        "    ax.get_yaxis().set_visible(False)\n",
        "  \n",
        "    ax = plt.subplot(2, n, i + 1 + n)\n",
        "    plt.imshow(decoded_imgs[i].reshape(28, 28))\n",
        "    plt.gray()\n",
        "    ax.get_xaxis().set_visible(False)\n",
        "    ax.get_yaxis().set_visible(False)\n",
        "plt.show()"
      ],
      "metadata": {
        "colab": {
          "base_uri": "https://localhost:8080/",
          "height": 248
        },
        "id": "fOiATiEd7So_",
        "outputId": "a3255093-3ab7-4dad-f4eb-995f2baddcee"
      },
      "execution_count": 8,
      "outputs": [
        {
          "output_type": "display_data",
          "data": {
            "text/plain": [
              "<Figure size 1440x288 with 20 Axes>"
            ],
            "image/png": "[encoded data removed]"
          },
          "metadata": {
            "needs_background": "light"
          }
        }
      ]
    },
    {
      "cell_type": "markdown",
      "source": [
        "The top row is the original digits, and the bottom row is the reconstructed digits. We are losing quite a bit of detail with this basic approach.\n",
        "\n",
        "\n",
        "---\n",
        "\n"
      ],
      "metadata": {
        "id": "7dWfQ_EbvXo1"
      }
    },
    {
      "cell_type": "markdown",
      "source": [
        "# Denoising using Convolutional Autoencoders:\n",
        "Instead of limiting yourselves to one layer, now experiment using a stack of layers.\n",
        "\n",
        "Since the inputs are images, it makes sense to use convolutional neural networks (convnets) as encoders and decoders. In practical settings, autoencoders applied to images are always convolutional autoencoders --they simply perform much better.\n",
        "\n",
        "You will then put the convolutional autoencoder to work on an image denoising problem. It's simple: the autoencoder should map noisy digits images to clean digits images.\n"
      ],
      "metadata": {
        "id": "I-AKT21tLUiF"
      }
    },
    {
      "cell_type": "markdown",
      "source": [
        "## Step 6 [10 points]: Load Data:\n",
        "\n",
        "Load data and normalize all values between 0 and 1 but this time, you do not need to flatten the 28x28 images."
      ],
      "metadata": {
        "id": "366QWxnrhVrh"
      }
    },
    {
      "cell_type": "code",
      "source": [
        "################ INPUT CODE HERE (~5 lines of code) #####################\n",
        "\n",
        "(x_train, _), (x_test, _) = mnist.load_data()\n",
        "\n",
        "x_train = x_train.astype('float32') / 255.\n",
        "x_test = x_test.astype('float32') / 255.\n",
        "x_train = np.reshape(x_train, (len(x_train), 28, 28, 1))\n",
        "x_test = np.reshape(x_test, (len(x_test), 28, 28, 1))\n",
        "\n",
        "#########################################################################"
      ],
      "metadata": {
        "id": "4TB3_Z8uhVGO"
      },
      "execution_count": 9,
      "outputs": []
    },
    {
      "cell_type": "markdown",
      "source": [
        "## Step 7: Generate Synthetic Data:\n",
        "\n",
        "We generate synthetic noisy digits by simply applying a gaussian noise matrix and clip the images between 0 and 1.\n"
      ],
      "metadata": {
        "id": "OcN0jIhahBLa"
      }
    },
    {
      "cell_type": "code",
      "source": [
        "noise_factor = 0.5\n",
        "\n",
        "x_train_noisy = x_train + noise_factor * np.random.normal(loc=0.0, scale=1.0, size=x_train.shape) \n",
        "x_test_noisy = x_test + noise_factor * np.random.normal(loc=0.0, scale=1.0, size=x_test.shape) \n",
        "\n",
        "x_train_noisy = np.clip(x_train_noisy, 0., 1.)\n",
        "x_test_noisy = np.clip(x_test_noisy, 0., 1.)\n",
        "\n",
        "print(x_train_noisy.shape)\n",
        "print(x_test_noisy.shape)"
      ],
      "metadata": {
        "colab": {
          "base_uri": "https://localhost:8080/"
        },
        "id": "d8qgHOugR5OY",
        "outputId": "bfe3ded5-a121-463d-ad5b-630a8b73cd07"
      },
      "execution_count": 25,
      "outputs": [
        {
          "output_type": "stream",
          "name": "stdout",
          "text": [
            "(60000, 28, 28, 1)\n",
            "(10000, 28, 28, 1)\n"
          ]
        }
      ]
    },
    {
      "cell_type": "markdown",
      "source": [
        "Here is how the the noisy image data is looking:"
      ],
      "metadata": {
        "id": "8q800zPdiJOo"
      }
    },
    {
      "cell_type": "code",
      "source": [
        "import matplotlib.pyplot as plt\n",
        "\n",
        "n = 10\n",
        "plt.figure(figsize=(20, 2))\n",
        "for i in range(1, n + 1):\n",
        "    ax = plt.subplot(1, n, i)\n",
        "    plt.imshow(x_test_noisy[i].reshape(28, 28))\n",
        "    plt.gray()\n",
        "    ax.get_xaxis().set_visible(False)\n",
        "    ax.get_yaxis().set_visible(False)\n",
        "plt.show()"
      ],
      "metadata": {
        "colab": {
          "base_uri": "https://localhost:8080/",
          "height": 129
        },
        "id": "e_X3QoZWUJgW",
        "outputId": "6524229f-bab7-4e97-a153-2ac344a8a4b6"
      },
      "execution_count": 26,
      "outputs": [
        {
          "output_type": "display_data",
          "data": {
            "text/plain": [
              "<Figure size 1440x144 with 10 Axes>"
            ],
            "image/png": "[encoded data removed]"
          },
          "metadata": {
            "needs_background": "light"
          }
        }
      ]
    },
    {
      "cell_type": "markdown",
      "source": [
        "## Step 8 [30 points]: Setup Convolutional Autoencoder :\n",
        "\n",
        "This time you will write code to set up an autoencoder with convolutional layers. You can experiment with various designs but we recommend:\n",
        "\n",
        "1. Let the input size of images be 28x28x1.\n",
        "2. Convolutional layer with 32 filters of kernel size 3x3 and same padding on all edges.\n",
        "3. Max pool layer with kernel 2x2 and same padding on all edges.\n",
        "4. Convolutional layer with 32 filters of kernel size 3x3 and same padding on all edges.\n",
        "5. Max pool layer with kernel 2x2 and same padding on all edges.\n",
        "\n",
        "At this point the representation is (7, 7, 32)\n",
        "\n",
        "6. Convolutional layer with 32 filters of kernel size 3x3 and same padding on all edges.\n",
        "7. Up sampling layer with kernel 2x2.\n",
        "8. Convolutional layer with 32 filters of kernel size 2x2 and same padding on all edges.\n",
        "9. Up sampling layer with kernel 2x2.\n",
        "10. Convolutional layer with 1 filter of kernel size 3x3 and same padding on all edges.\n",
        "\n",
        "Useful Links:\n",
        "\n",
        "1. [Convolutional layers](https://www.tensorflow.org/api_docs/python/tf/keras/layers/Conv2D)\n",
        "2. [Max Pool layers](https://keras.io/api/layers/pooling_layers/max_pooling2d/)\n",
        "3. [Up sampling](https://keras.io/api/layers/reshaping_layers/up_sampling2d/)\n",
        "\n",
        "\n"
      ],
      "metadata": {
        "id": "Tmn-mmRGT2zC"
      }
    },
    {
      "cell_type": "code",
      "source": [
        "\n",
        "input_img = keras.Input(shape=(28, 28, 1))\n",
        "\n",
        "################ INPUT CODE HERE (~9 lines of code) #####################\n",
        "\n",
        "\n",
        "x = layers.Conv2D(32, (3, 3), activation='relu', padding='same')(input_img)\n",
        "x = layers.MaxPooling2D((2, 2), padding='same')(x)\n",
        "x = layers.Conv2D(32, (3, 3), activation='relu', padding='same')(x)\n",
        "encoded = layers.MaxPooling2D((2, 2), padding='same')(x)\n",
        "\n",
        "x = layers.Conv2D(32, (3, 3), activation='relu', padding='same')(encoded)\n",
        "x = layers.UpSampling2D((2, 2))(x)\n",
        "x = layers.Conv2D(32, (3, 3), activation='relu', padding='same')(x)\n",
        "x = layers.UpSampling2D((2, 2))(x)\n",
        "decoded = layers.Conv2D(1, (3, 3), activation='sigmoid', padding='same')(x)\n",
        "\n",
        "#########################################################################\n"
      ],
      "metadata": {
        "id": "EmqCh-Y9UL9g"
      },
      "execution_count": 27,
      "outputs": []
    },
    {
      "cell_type": "code",
      "source": [
        "autoencoder = keras.Model(input_img, decoded)\n",
        "autoencoder.compile(optimizer='adam', loss='binary_crossentropy')"
      ],
      "metadata": {
        "id": "GXbxUxlMwsdN"
      },
      "execution_count": 28,
      "outputs": []
    },
    {
      "cell_type": "markdown",
      "source": [
        "## Step 9 [10 points]: Run Autoencoder\n",
        "\n",
        "Next, train the autoencoder for 10 epochs and batch size 128.\n",
        "\n",
        "This step could take some time, about 2 minutes per epoch."
      ],
      "metadata": {
        "id": "RINRu4fAVSn-"
      }
    },
    {
      "cell_type": "code",
      "source": [
        "################ INPUT CODE HERE (~1 lines of code) #####################\n",
        "\n",
        "autoencoder.fit(x_train_noisy, x_train,\n",
        "                epochs=10,\n",
        "                batch_size=128,\n",
        "                shuffle=True,\n",
        "                validation_data=(x_test_noisy, x_test))\n",
        "\n",
        "#########################################################################"
      ],
      "metadata": {
        "colab": {
          "base_uri": "https://localhost:8080/"
        },
        "id": "sPrVSBEhURqn",
        "outputId": "62b6c4a7-94fc-476a-e936-07b9d786b067"
      },
      "execution_count": 29,
      "outputs": [
        {
          "output_type": "stream",
          "name": "stdout",
          "text": [
            "Epoch 1/10\n",
            "469/469 [==============================] - 132s 281ms/step - loss: 0.1694 - val_loss: 0.1174\n",
            "Epoch 2/10\n",
            "469/469 [==============================] - 132s 281ms/step - loss: 0.1138 - val_loss: 0.1088\n",
            "Epoch 3/10\n",
            "469/469 [==============================] - 133s 283ms/step - loss: 0.1083 - val_loss: 0.1052\n",
            "Epoch 4/10\n",
            "469/469 [==============================] - 133s 283ms/step - loss: 0.1050 - val_loss: 0.1027\n",
            "Epoch 5/10\n",
            "469/469 [==============================] - 132s 282ms/step - loss: 0.1029 - val_loss: 0.1013\n",
            "Epoch 6/10\n",
            "469/469 [==============================] - 135s 287ms/step - loss: 0.1015 - val_loss: 0.1003\n",
            "Epoch 7/10\n",
            "469/469 [==============================] - 135s 288ms/step - loss: 0.1005 - val_loss: 0.0992\n",
            "Epoch 8/10\n",
            "469/469 [==============================] - 134s 287ms/step - loss: 0.0997 - val_loss: 0.0984\n",
            "Epoch 9/10\n",
            "469/469 [==============================] - 134s 286ms/step - loss: 0.0991 - val_loss: 0.0981\n",
            "Epoch 10/10\n",
            "469/469 [==============================] - 135s 287ms/step - loss: 0.0985 - val_loss: 0.0976\n"
          ]
        },
        {
          "output_type": "execute_result",
          "data": {
            "text/plain": [
              "<keras.callbacks.History at 0x7f2d5ed41d50>"
            ]
          },
          "metadata": {},
          "execution_count": 29
        }
      ]
    },
    {
      "cell_type": "markdown",
      "source": [
        "Both the training and validation loss should converge at a value <= 0.1.\n",
        "\n",
        "If you are experimenting with different network configurations, make sure your losses are not greater than expected."
      ],
      "metadata": {
        "id": "hoElsDxAzKyw"
      }
    },
    {
      "cell_type": "markdown",
      "source": [
        "Now find the decoded versions of the x_test_noisy values, i.e. run your model on x_test_noisy and store the outputs in pred_imgs.\n"
      ],
      "metadata": {
        "id": "6QNjIaIZxQG7"
      }
    },
    {
      "cell_type": "code",
      "source": [
        "################ INPUT CODE HERE (~1 lines of code) #####################\n",
        "\n",
        "pred_imgs = autoencoder.predict(x_test_noisy)\n",
        "\n",
        "#########################################################################"
      ],
      "metadata": {
        "id": "0MeDBJyBWpW7"
      },
      "execution_count": 30,
      "outputs": []
    },
    {
      "cell_type": "markdown",
      "source": [
        "## Step 10: Visualize Results\n",
        "\n",
        "Run the cell below to see how your network has performed."
      ],
      "metadata": {
        "id": "LEAuZk81zcJY"
      }
    },
    {
      "cell_type": "code",
      "source": [
        "n = 10\n",
        "plt.figure(figsize=(20, 4))\n",
        "for i in range(n):\n",
        "    \n",
        "    ax = plt.subplot(2, n, i + 1)\n",
        "    plt.imshow(x_test_noisy[i].reshape(28, 28))\n",
        "    plt.gray()\n",
        "    ax.get_xaxis().set_visible(False)\n",
        "    ax.get_yaxis().set_visible(False)\n",
        "\n",
        "    ax = plt.subplot(2, n, i + 1 + n)\n",
        "    plt.imshow(pred_imgs[i].reshape(28, 28))\n",
        "    plt.gray()\n",
        "    ax.get_xaxis().set_visible(False)\n",
        "    ax.get_yaxis().set_visible(False)\n",
        "plt.show()"
      ],
      "metadata": {
        "colab": {
          "base_uri": "https://localhost:8080/",
          "height": 248
        },
        "id": "Dkr1odlHWwCl",
        "outputId": "65f39623-97e2-43d5-d4d4-b3030b6f475d"
      },
      "execution_count": 31,
      "outputs": [
        {
          "output_type": "display_data",
          "data": {
            "text/plain": [
              "<Figure size 1440x288 with 20 Axes>"
            ],
            "image/png": "[encoded data removed]"
          },
          "metadata": {
            "needs_background": "light"
          }
        }
      ]
    },
    {
      "cell_type": "markdown",
      "source": [
        "Top, the noisy digits fed to the network, and bottom, the digits are reconstructed by the network.\n",
        "\n",
        "It seems to work pretty well. If you scale this process to a bigger convnet, you can start building document denoising or audio denoising models.\n",
        "\n",
        "\n",
        "---\n",
        "\n"
      ],
      "metadata": {
        "id": "vhhKIhIayNqJ"
      }
    }
  ]
}