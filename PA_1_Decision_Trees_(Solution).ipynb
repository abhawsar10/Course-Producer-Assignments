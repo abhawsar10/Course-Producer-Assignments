{
  "nbformat": 4,
  "nbformat_minor": 0,
  "metadata": {
    "colab": {
      "name": "PA-1 Decision Trees (Solution).ipynb",
      "provenance": [],
      "collapsed_sections": [
        "qTorIDyxp9PA",
        "uBbRybjU-xjE"
      ],
      "toc_visible": true
    },
    "kernelspec": {
      "name": "python3",
      "display_name": "Python 3"
    },
    "language_info": {
      "name": "python"
    }
  },
  "cells": [
    {
      "cell_type": "markdown",
      "source": [
        "# **Decision Tree Classification**"
      ],
      "metadata": {
        "id": "qTorIDyxp9PA"
      }
    },
    {
      "cell_type": "markdown",
      "source": [
        "Decision Trees (DTs) are a non-parametric supervised learning method used for classification and regression. The goal is to create a model that predicts the value of a target variable by learning simple decision rules inferred from the data features. A tree can be seen as a piecewise constant approximation."
      ],
      "metadata": {
        "id": "c7UQXxqk_mIp"
      }
    },
    {
      "cell_type": "markdown",
      "source": [
        "**STEP 1: Importing all the required libraries.**"
      ],
      "metadata": {
        "id": "6FmlIiAi__u1"
      }
    },
    {
      "cell_type": "code",
      "execution_count": null,
      "metadata": {
        "id": "2CQFMu_co3uB"
      },
      "outputs": [],
      "source": [
        "# Libraries for data analysis\n",
        "import numpy as np # For large multi-dimensional array and matrix processing\n",
        "import pandas as pd # For data extraction and preparation\n",
        "\n",
        "#The sklearn.tree module includes decision tree-based models for classification and regression.\n",
        "from sklearn import tree\n",
        "\n",
        "# Libraries for displaying results and analysis\n",
        "from sklearn.model_selection import train_test_split\n",
        "from sklearn.metrics import confusion_matrix, accuracy_score, ConfusionMatrixDisplay"
      ]
    },
    {
      "cell_type": "markdown",
      "source": [
        "**STEP 2: Importing Dataset**"
      ],
      "metadata": {
        "id": "Tw2IL1zjARue"
      }
    },
    {
      "cell_type": "markdown",
      "source": [
        "We are going to be using the wine toy dataset from SciKit Learn"
      ],
      "metadata": {
        "id": "vcZC7VWpAVde"
      }
    },
    {
      "cell_type": "code",
      "source": [
        "from sklearn.datasets import load_wine\n",
        "wine_data = load_wine()"
      ],
      "metadata": {
        "id": "xZ8E5GxNteHV"
      },
      "execution_count": null,
      "outputs": []
    },
    {
      "cell_type": "markdown",
      "source": [
        "You can optionally print the Description of the dataset for your reference."
      ],
      "metadata": {
        "id": "7H1o-aBUBNLC"
      }
    },
    {
      "cell_type": "code",
      "source": [
        "print(wine_data.data.shape)\n",
        "print(wine_data.target.shape)\n",
        "print(wine_data.DESCR)"
      ],
      "metadata": {
        "id": "Qn_6VEEHzNpd"
      },
      "execution_count": null,
      "outputs": []
    },
    {
      "cell_type": "markdown",
      "source": [
        "**STEP 3: Split the Dataset**\n",
        "\n",
        "**TO DO:** Similar to the KNN Tutorial, split the given X and y data into X_train, X_test, y_train, y_test, using **test ratio of 0.3**."
      ],
      "metadata": {
        "id": "qOK9ShfyBbD0"
      }
    },
    {
      "cell_type": "code",
      "source": [
        "X = wine_data.data\n",
        "y = wine_data.target\n",
        "\n",
        "##### INPUT CODE HERE (~1 line of code) ######\n",
        "\n",
        "X_train, X_test, y_train, y_test = train_test_split(X, y, test_size = 0.3, random_state = 0)\n",
        "\n",
        "##############################################\n",
        "\n",
        "assert X_train.shape == (124,13)\n",
        "assert y_train.shape == (124,)\n",
        "assert X_test.shape == (54,13)\n",
        "assert y_test.shape == (54,)\n",
        "\n",
        "print(\"Size of training data= \", X_train.shape[0],\" Samples\")\n",
        "print(\"Size of testing data= \", X_test.shape[0],\" Samples\")\n"
      ],
      "metadata": {
        "colab": {
          "base_uri": "https://localhost:8080/"
        },
        "id": "Bk8v4pJ5vVEn",
        "outputId": "471e61b4-408f-43bb-c291-29177670faaf"
      },
      "execution_count": null,
      "outputs": [
        {
          "output_type": "stream",
          "name": "stdout",
          "text": [
            "Size of training data=  124  Samples\n",
            "Size of testing data=  54  Samples\n"
          ]
        }
      ]
    },
    {
      "cell_type": "markdown",
      "source": [
        "**STEP 4: Fit model to training data**\n",
        "\n",
        "**TO DO:** Fit the given decision tree to X_train and y_train data. You may use [this link](https://scikit-learn.org/stable/modules/generated/sklearn.tree.DecisionTreeClassifier.html#sklearn.tree.DecisionTreeClassifier.fit) for reference."
      ],
      "metadata": {
        "id": "LPip_B47Dza3"
      }
    },
    {
      "cell_type": "code",
      "source": [
        "decision_tree = tree.DecisionTreeClassifier(random_state=0, max_depth=3)\n",
        "\n",
        "\n",
        "##### INPUT CODE HERE (~1 line of code) ######\n",
        "\n",
        "decision_tree.fit(X_train, y_train)\n",
        "\n",
        "##############################################\n",
        "\n",
        "print(\"Simple Visualization of the tree you created:\")\n",
        "print(tree.export_text(decision_tree, feature_names=wine_data.feature_names))\n"
      ],
      "metadata": {
        "colab": {
          "base_uri": "https://localhost:8080/"
        },
        "id": "zrwrOMlj0Nkw",
        "outputId": "0e278fcf-c8e7-4697-a625-ad0f6b22b090"
      },
      "execution_count": null,
      "outputs": [
        {
          "output_type": "stream",
          "name": "stdout",
          "text": [
            "Simple Visualization of the tree you created:\n",
            "|--- color_intensity <= 3.82\n",
            "|   |--- proline <= 1002.50\n",
            "|   |   |--- ash <= 3.00\n",
            "|   |   |   |--- class: 1\n",
            "|   |   |--- ash >  3.00\n",
            "|   |   |   |--- class: 0\n",
            "|   |--- proline >  1002.50\n",
            "|   |   |--- class: 0\n",
            "|--- color_intensity >  3.82\n",
            "|   |--- flavanoids <= 1.58\n",
            "|   |   |--- class: 2\n",
            "|   |--- flavanoids >  1.58\n",
            "|   |   |--- proline <= 737.00\n",
            "|   |   |   |--- class: 1\n",
            "|   |   |--- proline >  737.00\n",
            "|   |   |   |--- class: 0\n",
            "\n"
          ]
        }
      ]
    },
    {
      "cell_type": "markdown",
      "source": [
        "**STEP 5: Testing the model**\n",
        "\n",
        "**TO DO:** Find target predictions by giving **X_test** input to your model and store them in **y_pred**. You may need [this link](https://scikit-learn.org/stable/modules/generated/sklearn.tree.DecisionTreeClassifier.html#sklearn.tree.DecisionTreeClassifier.predict) for reference."
      ],
      "metadata": {
        "id": "gmAT6f-qFSSF"
      }
    },
    {
      "cell_type": "code",
      "source": [
        "##### INPUT CODE HERE (~1 line of code) ######\n",
        "\n",
        "y_pred = decision_tree.predict(X_test)\n",
        "\n",
        "##############################################"
      ],
      "metadata": {
        "id": "HoXj0eqZDv-F"
      },
      "execution_count": null,
      "outputs": []
    },
    {
      "cell_type": "markdown",
      "source": [
        "**STEP 6: Visualize the Results**\n",
        "\n",
        "**TO DO:** Similar to the KNN Tutorial, plot confusion matrix, and accuracy of model predictions. Store accuracy in **acc** variable\n",
        "\n",
        "You may need the following references:\n",
        "\n",
        "[Confusion Matrix](https://scikit-learn.org/stable/modules/generated/sklearn.metrics.confusion_matrix.html)\n",
        "\n",
        "[Confusion Matrix Display](https://scikit-learn.org/stable/modules/generated/sklearn.metrics.ConfusionMatrixDisplay.html)\n",
        "\n",
        "[Accuracy](https://scikit-learn.org/stable/modules/generated/sklearn.metrics.accuracy_score.html)"
      ],
      "metadata": {
        "id": "ux7n7XZJF9VY"
      }
    },
    {
      "cell_type": "code",
      "source": [
        "##### INPUT CODE HERE (~4 line of code) ######\n",
        "\n",
        "cm = confusion_matrix(y_test, y_pred)\n",
        "cmd = ConfusionMatrixDisplay(cm, display_labels=wine_data.target_names)\n",
        "cmd.plot()\n",
        "\n",
        "acc = accuracy_score(y_test, y_pred)*100\n",
        "\n",
        "##############################################\n",
        "\n",
        "print('Accuracy of our model is equal to ' + str(round(acc, 2)) + ' %.')"
      ],
      "metadata": {
        "colab": {
          "base_uri": "https://localhost:8080/",
          "height": 297
        },
        "id": "CSXyi0iYwuy6",
        "outputId": "05e389af-934f-4357-b2cb-c5c28033bfa7"
      },
      "execution_count": null,
      "outputs": [
        {
          "output_type": "stream",
          "name": "stdout",
          "text": [
            "Accuracy of our model is equal to 94.44 %.\n"
          ]
        },
        {
          "output_type": "display_data",
          "data": {
            "image/png": "[encoded data removed]",
            "text/plain": [
              "<Figure size 432x288 with 2 Axes>"
            ]
          },
          "metadata": {
            "needs_background": "light"
          }
        }
      ]
    },
    {
      "cell_type": "markdown",
      "source": [
        "\n",
        "\n",
        "---\n",
        "\n"
      ],
      "metadata": {
        "id": "v3YuUi8ZHY9f"
      }
    },
    {
      "cell_type": "markdown",
      "source": [
        "# Random Forrest Reggression\n"
      ],
      "metadata": {
        "id": "uBbRybjU-xjE"
      }
    },
    {
      "cell_type": "markdown",
      "source": [
        "Decision trees can also be applied to regression problems, using the DecisionTreeRegressor class.\n",
        "\n",
        "As in the classification setting, the fit method will take as argument arrays X and y, only that in this case y is expected to have floating point values instead of integer values:"
      ],
      "metadata": {
        "id": "qGYwmGnGxn_u"
      }
    },
    {
      "cell_type": "markdown",
      "source": [
        "**STEP 1: Importing all the required libraries.**"
      ],
      "metadata": {
        "id": "48r-OKiExtSw"
      }
    },
    {
      "cell_type": "code",
      "source": [
        "#The sklearn.ensemble module includes the RandomForest algorithm.\n",
        "from sklearn.ensemble import RandomForestRegressor\n",
        "\n",
        "# Libraries for calculating evaluation metrics\n",
        "from sklearn.metrics import mean_squared_error"
      ],
      "metadata": {
        "id": "9kE4RyoD-4-z"
      },
      "execution_count": null,
      "outputs": []
    },
    {
      "cell_type": "markdown",
      "source": [
        "**STEP 2: Importing Dataset**\n",
        "\n",
        "We are going to be using the wine toy dataset from SciKit Learn"
      ],
      "metadata": {
        "id": "las8qWOUHfh2"
      }
    },
    {
      "cell_type": "code",
      "source": [
        "from sklearn.datasets import fetch_california_housing\n",
        "\n",
        "housing_data = fetch_california_housing()"
      ],
      "metadata": {
        "id": "T8NUIU9Z_YE4"
      },
      "execution_count": null,
      "outputs": []
    },
    {
      "cell_type": "markdown",
      "source": [
        "You can optionally print the description and a few samples from the dataset for your reference."
      ],
      "metadata": {
        "id": "njTHiuTYyOiO"
      }
    },
    {
      "cell_type": "code",
      "source": [
        "\n",
        "print(housing_data.keys())\n",
        "print(housing_data.data.shape)\n",
        "print(housing_data.DESCR)\n",
        "\n",
        "print(pd.DataFrame(housing_data.data)[:5])\n",
        "print(pd.DataFrame(housing_data.target)[:5])\n"
      ],
      "metadata": {
        "colab": {
          "base_uri": "https://localhost:8080/"
        },
        "id": "-YduDpy8BsWD",
        "outputId": "6f437a33-5ed1-4db1-9165-2e94d0735f83"
      },
      "execution_count": null,
      "outputs": [
        {
          "output_type": "stream",
          "name": "stdout",
          "text": [
            "dict_keys(['data', 'target', 'frame', 'target_names', 'feature_names', 'DESCR'])\n",
            "(20640, 8)\n",
            ".. _california_housing_dataset:\n",
            "\n",
            "California Housing dataset\n",
            "--------------------------\n",
            "\n",
            "**Data Set Characteristics:**\n",
            "\n",
            "    :Number of Instances: 20640\n",
            "\n",
            "    :Number of Attributes: 8 numeric, predictive attributes and the target\n",
            "\n",
            "    :Attribute Information:\n",
            "        - MedInc        median income in block group\n",
            "        - HouseAge      median house age in block group\n",
            "        - AveRooms      average number of rooms per household\n",
            "        - AveBedrms     average number of bedrooms per household\n",
            "        - Population    block group population\n",
            "        - AveOccup      average number of household members\n",
            "        - Latitude      block group latitude\n",
            "        - Longitude     block group longitude\n",
            "\n",
            "    :Missing Attribute Values: None\n",
            "\n",
            "This dataset was obtained from the StatLib repository.\n",
            "https://www.dcc.fc.up.pt/~ltorgo/Regression/cal_housing.html\n",
            "\n",
            "The target variable is the median house value for California districts,\n",
            "expressed in hundreds of thousands of dollars ($100,000).\n",
            "\n",
            "This dataset was derived from the 1990 U.S. census, using one row per census\n",
            "block group. A block group is the smallest geographical unit for which the U.S.\n",
            "Census Bureau publishes sample data (a block group typically has a population\n",
            "of 600 to 3,000 people).\n",
            "\n",
            "An household is a group of people residing within a home. Since the average\n",
            "number of rooms and bedrooms in this dataset are provided per household, these\n",
            "columns may take surpinsingly large values for block groups with few households\n",
            "and many empty houses, such as vacation resorts.\n",
            "\n",
            "It can be downloaded/loaded using the\n",
            ":func:`sklearn.datasets.fetch_california_housing` function.\n",
            "\n",
            ".. topic:: References\n",
            "\n",
            "    - Pace, R. Kelley and Ronald Barry, Sparse Spatial Autoregressions,\n",
            "      Statistics and Probability Letters, 33 (1997) 291-297\n",
            "\n",
            "        0     1         2         3       4         5      6       7\n",
            "0  8.3252  41.0  6.984127  1.023810   322.0  2.555556  37.88 -122.23\n",
            "1  8.3014  21.0  6.238137  0.971880  2401.0  2.109842  37.86 -122.22\n",
            "2  7.2574  52.0  8.288136  1.073446   496.0  2.802260  37.85 -122.24\n",
            "3  5.6431  52.0  5.817352  1.073059   558.0  2.547945  37.85 -122.25\n",
            "4  3.8462  52.0  6.281853  1.081081   565.0  2.181467  37.85 -122.25\n",
            "       0\n",
            "0  4.526\n",
            "1  3.585\n",
            "2  3.521\n",
            "3  3.413\n",
            "4  3.422\n"
          ]
        }
      ]
    },
    {
      "cell_type": "markdown",
      "source": [
        "**STEP 3: Split the Dataset**\n",
        "\n",
        "**TO DO:** Similar to the KNN Tutorial, split the given X and y data into X_train, X_test, y_train, y_test, using **test ratio of 0.3**."
      ],
      "metadata": {
        "id": "5sspyXSmy17q"
      }
    },
    {
      "cell_type": "code",
      "source": [
        "X = housing_data.data\n",
        "y = housing_data.target\n",
        "\n",
        "##### INPUT CODE HERE (~1 line of code) ######\n",
        "\n",
        "X_train, X_test, y_train, y_test = train_test_split(X, y, test_size = 0.3, random_state = 0)\n",
        "\n",
        "##############################################\n",
        "\n",
        "assert X_train.shape == (14448, 8)\n",
        "assert y_train.shape == (14448,)\n",
        "assert X_test.shape == (6192, 8)\n",
        "assert y_test.shape == (6192,)\n",
        "\n",
        "print(\"Size of training data= \", X_train.shape[0],\" Samples\")\n",
        "print(\"Size of testing data= \", X_test.shape[0],\" Samples\")\n"
      ],
      "metadata": {
        "colab": {
          "base_uri": "https://localhost:8080/"
        },
        "id": "FlcuTTiTy9Tk",
        "outputId": "53e5205a-bb23-4afa-fc85-1dc0a61390e5"
      },
      "execution_count": null,
      "outputs": [
        {
          "output_type": "stream",
          "name": "stdout",
          "text": [
            "Size of training data=  14448  Samples\n",
            "Size of testing data=  6192  Samples\n"
          ]
        }
      ]
    },
    {
      "cell_type": "markdown",
      "source": [
        "**STEP 4: Fit model to training data**\n",
        "\n",
        "**TO DO:** Fit the given decision tree to X_train and y_train data. You may use [this link](https://scikit-learn.org/stable/modules/generated/sklearn.tree.DecisionTreeClassifier.html#sklearn.tree.DecisionTreeClassifier.fit) for reference."
      ],
      "metadata": {
        "id": "z3WOEAy8zjln"
      }
    },
    {
      "cell_type": "code",
      "source": [
        "model = RandomForestRegressor()\n",
        "\n",
        "##### INPUT CODE HERE (~1 line of code) ######\n",
        "\n",
        "model.fit(X_train, y_train)\n",
        "\n",
        "##############################################"
      ],
      "metadata": {
        "colab": {
          "base_uri": "https://localhost:8080/"
        },
        "id": "pLKCjKwJzofY",
        "outputId": "2e051477-be85-4e18-ec00-c38cc77278e5"
      },
      "execution_count": null,
      "outputs": [
        {
          "output_type": "execute_result",
          "data": {
            "text/plain": [
              "RandomForestRegressor()"
            ]
          },
          "metadata": {},
          "execution_count": 38
        }
      ]
    },
    {
      "cell_type": "markdown",
      "source": [
        "**STEP 4: Try Predicting Values**\n",
        "\n",
        "**TO DO (optional) :** Input values of all features and find predicted value of house"
      ],
      "metadata": {
        "id": "xvTNzrcr0j4x"
      }
    },
    {
      "cell_type": "code",
      "source": [
        "\n",
        "val1, val2, val3, val4, val5, val6, val7, val8 = 8.3252,  41.0,  6.984127,  1.023810,   322.0, 2.555556,  37.88, -122.23\n",
        "\n",
        "\n",
        "val1 = input(\"Enter Median Income (Avg:3.87) : \")\n",
        "val2 = input(\"Enter Median House Age (Avg:28.63) : \")\n",
        "val3 = input(\"Enter average number of rooms (Avg:5.42) : \")\n",
        "val4 = input(\"Enter average number of bedrooms (Avg:1.09) : \")\n",
        "val5 = input(\"Enter block group population (Avg:1425.47) : \")\n",
        "val6 = input(\"Enter number of household members (Avg:3.07) : \")\n",
        "val7 = input(\"Enter latitude (Avg:35.63) : \")\n",
        "val8 = input(\"Enter longitude (Avg:-119.56) : \")\n",
        "\n",
        "row = [[val1, val2, val3, val4, val5, val6, val7, val8]]\n",
        "\n",
        "# make a single prediction\n",
        "yhat = model.predict(row)\n",
        "\n",
        "print('House Value Prediction= $',yhat[0]*100000)"
      ],
      "metadata": {
        "colab": {
          "base_uri": "https://localhost:8080/"
        },
        "id": "9rIm-v6ZH0Ju",
        "outputId": "0c24b521-a854-4fe6-f5b6-10223071956c"
      },
      "execution_count": null,
      "outputs": [
        {
          "output_type": "stream",
          "name": "stdout",
          "text": [
            "House Value Prediction= $ 445025.1000000003\n"
          ]
        }
      ]
    },
    {
      "cell_type": "markdown",
      "source": [
        "**STEP 5: Testing the model**\n",
        "\n",
        "**TO DO:** Find target predictions by giving **X_test** input to your model and store them in **y_pred**. You may need [this link](https://scikit-learn.org/stable/modules/generated/sklearn.tree.DecisionTreeClassifier.html#sklearn.tree.DecisionTreeClassifier.predict) for reference."
      ],
      "metadata": {
        "id": "RfzVPn0x437S"
      }
    },
    {
      "cell_type": "code",
      "source": [
        "##### INPUT CODE HERE (~1 line of code) ######\n",
        "\n",
        "y_pred = model.predict(X_test)\n",
        "\n",
        "##############################################"
      ],
      "metadata": {
        "id": "oHbnwEyt48Mr"
      },
      "execution_count": null,
      "outputs": []
    },
    {
      "cell_type": "markdown",
      "source": [
        "**STEP 6: Visualize the Results**\n",
        "\n",
        "**TO DO:** Since this is not a classification task, we cannot plot confusion matrix. Instead we ask you to find the mean square error evaluated on all the testing data and store it in **mse**.\n",
        "\n",
        "You may need the following reference:\n",
        "\n",
        "[Mean Square Error](https://scikit-learn.org/stable/modules/generated/sklearn.metrics.mean_squared_error.html)\n"
      ],
      "metadata": {
        "id": "qqGiMHYC5FFu"
      }
    },
    {
      "cell_type": "code",
      "source": [
        "##### INPUT CODE HERE (~1 line of code) ######\n",
        "\n",
        "mse = mean_squared_error(y_test,y_pred)\n",
        "\n",
        "##############################################\n",
        "\n",
        "print(\"Mean Squared Error = \",mse)"
      ],
      "metadata": {
        "colab": {
          "base_uri": "https://localhost:8080/"
        },
        "id": "sv-idAUX5Il-",
        "outputId": "f2fcf123-9391-46f8-b2e0-1f7a0d202647"
      },
      "execution_count": null,
      "outputs": [
        {
          "output_type": "stream",
          "name": "stdout",
          "text": [
            "Mean Squared Error =  0.275253728400282\n"
          ]
        }
      ]
    },
    {
      "cell_type": "markdown",
      "source": [
        "\n",
        "\n",
        "---\n",
        "\n"
      ],
      "metadata": {
        "id": "gjrWJNii6Noe"
      }
    },
    {
      "cell_type": "markdown",
      "source": [
        "# Hyperparameter Tuning (FYI Only)"
      ],
      "metadata": {
        "id": "rZ167Bw2d9wx"
      }
    },
    {
      "cell_type": "markdown",
      "source": [
        "This section is for your information only. Simply run the code cells one by one.\n",
        "\n",
        "We will take a closer look at some of the hyperparameters you should consider tuning for the random forest ensemble and their effect on model performance.\n",
        "\n",
        "We select the hyperparameters that give us the lowest error rate or Mean Square Error in this case."
      ],
      "metadata": {
        "id": "aciYVvHl6SXc"
      }
    },
    {
      "cell_type": "markdown",
      "source": [
        "First we define a function to evaluate a model using the mean square error metric."
      ],
      "metadata": {
        "id": "MORy4fvn6tLr"
      }
    },
    {
      "cell_type": "code",
      "source": [
        "def find_mse(model, X, y):\n",
        "\n",
        "  yhat = model.predict(X)\n",
        "  mse = mean_squared_error(y,yhat) \n",
        "\n",
        "  return mse"
      ],
      "metadata": {
        "id": "CZMltehuec4q"
      },
      "execution_count": null,
      "outputs": []
    },
    {
      "cell_type": "markdown",
      "source": [
        "Next we define a function to test out various models and plot how the Mean Square Error evolves with respect to the hyperparameter in question."
      ],
      "metadata": {
        "id": "U53kHMzd6-7l"
      }
    },
    {
      "cell_type": "code",
      "source": [
        "from matplotlib import pyplot\n",
        "\n",
        "def plot_tuning(models_dict,X_train,X_test,y_train,y_test):\n",
        "\n",
        "  results, names = list(), list()\n",
        "\n",
        "  for name, model in models_dict.items():\n",
        "\n",
        "    model.fit(X_train, y_train)\n",
        "    mse = find_mse(model, X_test, y_test)\n",
        "  \n",
        "    results.append(mse)\n",
        "    names.append(name)\n",
        "    print(\"Hyperparameter= \",name,\"; MSE = \",mse)\n",
        "\n",
        "\n",
        "    n = [float(i) for i in names]\n",
        "\n",
        "  pyplot.plot(n,results)\n",
        "  pyplot.ylabel('Mean Square Error')\n",
        "  pyplot.xlabel('Hyperparameter')\n",
        "  pyplot.show()"
      ],
      "metadata": {
        "id": "ttit1Xm4eqeP"
      },
      "execution_count": null,
      "outputs": []
    },
    {
      "cell_type": "markdown",
      "source": [
        "**Hyperparameter:** max_samples.\n",
        "\n",
        "The **max_samples** argument can be set to a float between 0 and 1 to control the percentage of the size of the training dataset to make the sample used to train each decision tree. **None** means that the entire training set will be used to train each tree."
      ],
      "metadata": {
        "id": "-AbjOvTDeCGR"
      }
    },
    {
      "cell_type": "code",
      "source": [
        "#Store various models into a dictionary of models\n",
        "models_dict = dict()\n",
        "for i in np.arange(0.1, 1.1, 0.1):\n",
        "  # set max_samples=None to use 100%\n",
        "  key = round(i,2)\n",
        "  if i == 1.0:\n",
        "    i = None\n",
        "  models_dict[key] = RandomForestRegressor(max_samples=i)\n",
        "  "
      ],
      "metadata": {
        "id": "QcEEhuLEYpZ1"
      },
      "execution_count": null,
      "outputs": []
    },
    {
      "cell_type": "code",
      "source": [
        "#Plot the MSE for all models in the dictionary\n",
        "plot_tuning(models_dict,X_train,X_test,y_train,y_test)"
      ],
      "metadata": {
        "colab": {
          "base_uri": "https://localhost:8080/",
          "height": 453
        },
        "id": "3UkIwr82m4wF",
        "outputId": "208bfb30-4690-4ac3-d572-8d761316eb62"
      },
      "execution_count": null,
      "outputs": [
        {
          "output_type": "stream",
          "name": "stdout",
          "text": [
            "Hyperparameter=  0.1 ; MSE =  0.3242486277294917\n",
            "Hyperparameter=  0.2 ; MSE =  0.3036315778753964\n",
            "Hyperparameter=  0.3 ; MSE =  0.2925536277252238\n",
            "Hyperparameter=  0.4 ; MSE =  0.2854581468188017\n",
            "Hyperparameter=  0.5 ; MSE =  0.2822173920676175\n",
            "Hyperparameter=  0.6 ; MSE =  0.2803788699672291\n",
            "Hyperparameter=  0.7 ; MSE =  0.27896615688349724\n",
            "Hyperparameter=  0.8 ; MSE =  0.2776313999440332\n",
            "Hyperparameter=  0.9 ; MSE =  0.27431684218737656\n",
            "Hyperparameter=  1.0 ; MSE =  0.274629153592815\n"
          ]
        },
        {
          "output_type": "display_data",
          "data": {
            "image/png": "[encoded data removed]",
            "text/plain": [
              "<Figure size 432x288 with 1 Axes>"
            ]
          },
          "metadata": {
            "needs_background": "light"
          }
        }
      ]
    },
    {
      "cell_type": "markdown",
      "source": [
        "**Hyperparameter:** max_features.\n",
        "\n",
        "The number of features that is randomly sampled for each split point is perhaps the most important feature to configure for random forest."
      ],
      "metadata": {
        "id": "U1TOelFJ9jXx"
      }
    },
    {
      "cell_type": "code",
      "source": [
        "#Store various models into a dictionary of models\n",
        "models_dict = dict()\n",
        "\n",
        "for i in range(1,8):\n",
        "  models_dict[str(i)] = RandomForestRegressor(max_features=i)\n"
      ],
      "metadata": {
        "id": "V1TOiDTDgL7h"
      },
      "execution_count": null,
      "outputs": []
    },
    {
      "cell_type": "code",
      "source": [
        "#Plot the MSE for all models in the dictionary\n",
        "plot_tuning(models_dict,X_train,X_test,y_train,y_test)"
      ],
      "metadata": {
        "colab": {
          "base_uri": "https://localhost:8080/",
          "height": 401
        },
        "id": "LSgMQgIfne3Q",
        "outputId": "df5812df-a5d2-4257-f4b1-2baff1dd27b3"
      },
      "execution_count": null,
      "outputs": [
        {
          "output_type": "stream",
          "name": "stdout",
          "text": [
            "Hyperparameter=  1 ; MSE =  0.2888010824885656\n",
            "Hyperparameter=  2 ; MSE =  0.2550382212762607\n",
            "Hyperparameter=  3 ; MSE =  0.25090752674298145\n",
            "Hyperparameter=  4 ; MSE =  0.25494616719238866\n",
            "Hyperparameter=  5 ; MSE =  0.2638978701839457\n",
            "Hyperparameter=  6 ; MSE =  0.2670326958111564\n",
            "Hyperparameter=  7 ; MSE =  0.2716534986732383\n"
          ]
        },
        {
          "output_type": "display_data",
          "data": {
            "image/png": "[encoded data removed]",
            "text/plain": [
              "<Figure size 432x288 with 1 Axes>"
            ]
          },
          "metadata": {
            "needs_background": "light"
          }
        }
      ]
    },
    {
      "cell_type": "markdown",
      "source": [
        "**Hyperparameter:** n_estimators.\n",
        "\n",
        "Typically, the number of trees is increased until the model performance stabilizes. Intuition might suggest that more trees will lead to overfitting, although this is not the case."
      ],
      "metadata": {
        "id": "2FEQHe7Y-Khh"
      }
    },
    {
      "cell_type": "code",
      "source": [
        "#Store various models into a dictionary of models\n",
        "models_dict = dict()\n",
        "\n",
        "n_trees = [10, 50, 100, 500, 1000]\n",
        "for n in n_trees:\n",
        "  models_dict[str(n)] = RandomForestRegressor(n_estimators=n)"
      ],
      "metadata": {
        "id": "TTblvr9xnh_0"
      },
      "execution_count": null,
      "outputs": []
    },
    {
      "cell_type": "code",
      "source": [
        "#Plot the MSE for all models in the dictionary\n",
        "plot_tuning(models_dict,X_train,X_test,y_train,y_test)"
      ],
      "metadata": {
        "colab": {
          "base_uri": "https://localhost:8080/",
          "height": 366
        },
        "id": "FRLUXSYXoGeE",
        "outputId": "e8788dfb-e95e-4fa6-c778-cef06c140c1a"
      },
      "execution_count": null,
      "outputs": [
        {
          "output_type": "stream",
          "name": "stdout",
          "text": [
            "Hyperparameter=  10 ; MSE =  0.30498020245600704\n",
            "Hyperparameter=  50 ; MSE =  0.27798489288927497\n",
            "Hyperparameter=  100 ; MSE =  0.27284495021987776\n",
            "Hyperparameter=  500 ; MSE =  0.27243943730680037\n",
            "Hyperparameter=  1000 ; MSE =  0.27267554468439104\n"
          ]
        },
        {
          "output_type": "display_data",
          "data": {
            "image/png": "[encoded data removed]",
            "text/plain": [
              "<Figure size 432x288 with 1 Axes>"
            ]
          },
          "metadata": {
            "needs_background": "light"
          }
        }
      ]
    },
    {
      "cell_type": "markdown",
      "source": [
        "**Hyperparameter:** max_depth.\n",
        "\n",
        "A final interesting hyperparameter is the maximum depth of decision trees used in the ensemble.\n",
        "\n",
        "By default, trees are constructed to an arbitrary depth and are not pruned. This is a sensible default, although we can also explore fitting trees with different fixed depths."
      ],
      "metadata": {
        "id": "EEZUG588-rt1"
      }
    },
    {
      "cell_type": "code",
      "source": [
        "#Store various models into a dictionary of models\n",
        "models_dict = dict()\n",
        "\n",
        "depths = [i for i in range(1,8)] + [None]\n",
        "for n in depths:\n",
        "  if n==None:\n",
        "    models_dict[\"8\"] = RandomForestRegressor(max_depth=n)\n",
        "  else:\n",
        "    models_dict[str(n)] = RandomForestRegressor(max_depth=n)"
      ],
      "metadata": {
        "id": "TjxCheCMoMAj"
      },
      "execution_count": null,
      "outputs": []
    },
    {
      "cell_type": "code",
      "source": [
        "#Plot the MSE for all models in the dictionary\n",
        "plot_tuning(models_dict,X_train,X_test,y_train,y_test)"
      ],
      "metadata": {
        "colab": {
          "base_uri": "https://localhost:8080/",
          "height": 418
        },
        "id": "aHEgYflApNeh",
        "outputId": "de451dcb-1958-4430-a780-279250594917"
      },
      "execution_count": null,
      "outputs": [
        {
          "output_type": "stream",
          "name": "stdout",
          "text": [
            "Hyperparameter=  1 ; MSE =  0.9096727114462418\n",
            "Hyperparameter=  2 ; MSE =  0.7358048488001772\n",
            "Hyperparameter=  3 ; MSE =  0.6120590806398737\n",
            "Hyperparameter=  4 ; MSE =  0.5306639698122952\n",
            "Hyperparameter=  5 ; MSE =  0.47312685540501254\n",
            "Hyperparameter=  6 ; MSE =  0.4281736664169236\n",
            "Hyperparameter=  7 ; MSE =  0.38102966752745626\n",
            "Hyperparameter=  8 ; MSE =  0.27592682620820275\n"
          ]
        },
        {
          "output_type": "display_data",
          "data": {
            "image/png": "[encoded data removed]",
            "text/plain": [
              "<Figure size 432x288 with 1 Axes>"
            ]
          },
          "metadata": {
            "needs_background": "light"
          }
        }
      ]
    }
  ]
}